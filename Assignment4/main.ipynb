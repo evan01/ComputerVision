{
 "cells": [
  {
   "cell_type": "markdown",
   "metadata": {
    "collapsed": true
   },
   "source": [
    "#Q1: Bag of Words"
   ]
  },
  {
   "cell_type": "code",
   "execution_count": null,
   "metadata": {},
   "outputs": [
    {
     "name": "stdout",
     "output_type": "stream",
     "text": [
      "sup\n"
     ]
    }
   ],
   "source": [
    "import cv2\n",
    "from matplotlib import pyplot as plt\n",
    "import os\n",
    "import numpy as np\n",
    "\n",
    "class bWords:\n",
    "    DEBUG = True\n",
    "\n",
    "    def resizeImage(self, image, dbug=DEBUG):\n",
    "        if dbug:\n",
    "            image = cv2.resize(image, (120, 160))\n",
    "        else:\n",
    "            image = cv2.resize(image, (2400, 1200))\n",
    "        return image\n",
    "\n",
    "\n",
    "    def displayImage(self, img):\n",
    "        img = cv2.cvtColor(img, cv2.COLOR_BGR2RGB)\n",
    "        plt.imshow(img)\n",
    "\n",
    "\n",
    "    def displayImages(self, images):\n",
    "        print(\"Displaying outs\")\n",
    "        for im in images:\n",
    "            ima = im[0]\n",
    "            ima = cv2.cvtColor(ima, cv2.COLOR_BGR2RGB)\n",
    "            plt.figure()\n",
    "            plt.title(im[1], fontsize=self.FONT_SIZE, fontweight='bold', color=\"green\")\n",
    "            plt.imshow(ima)\n",
    "\n",
    "\n",
    "    def importImages(self, path):\n",
    "        for i in os.walk(path):\n",
    "            print i\n",
    "\n",
    "    def main(self):\n",
    "        pathToImages = \"./images/101_ObjectCategories\"\n",
    "\n",
    "\n",
    "        print \"Importing the images\"\n",
    "        self.importImages()\n",
    "\n",
    "# $pylab\n",
    "# %matplotlib inline\n",
    "plt.rcParams['figure.figsize'] = (20, 60.0)\n",
    "b = bWords()\n",
    "b.main()"
   ]
  },
  {
   "cell_type": "code",
   "execution_count": null,
   "metadata": {},
   "outputs": [],
   "source": [
    ""
   ]
  }
 ],
 "metadata": {
  "kernelspec": {
   "display_name": "Python 2",
   "language": "python",
   "name": "python2"
  },
  "language_info": {
   "codemirror_mode": {
    "name": "ipython",
    "version": 2.0
   },
   "file_extension": ".py",
   "mimetype": "text/x-python",
   "name": "python",
   "nbconvert_exporter": "python",
   "pygments_lexer": "ipython2",
   "version": "2.7.6"
  }
 },
 "nbformat": 4,
 "nbformat_minor": 0
}